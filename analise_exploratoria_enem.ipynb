{
 "cells": [
  {
   "cell_type": "markdown",
   "id": "95c90a19-f909-4c95-95ec-ff32108a963e",
   "metadata": {},
   "source": [
    "# Análise dos Microdados do ENEM 2023"
   ]
  },
  {
   "cell_type": "code",
   "execution_count": 291,
   "id": "7667e3ee-d596-49f3-b4f0-83a23dd90a31",
   "metadata": {},
   "outputs": [],
   "source": [
    "import pandas as pd\n",
    "import matplotlib.pyplot as plt\n",
    "%matplotlib inline\n",
    "from matplotlib.ticker import PercentFormatter"
   ]
  },
  {
   "cell_type": "code",
   "execution_count": 60,
   "id": "c56dca43-a126-4db1-9c1a-53d36bddffa0",
   "metadata": {},
   "outputs": [],
   "source": [
    "microdadosEnem = pd.read_csv(\"C:/Users/Samuel Marlon/Desktop/samuel/Ciência de Dados PUC/analise_enem/microdados_enem_2023/DADOS/MICRODADOS_ENEM_2023.csv\", sep=\";\", encoding='ISO-8859-1')"
   ]
  },
  {
   "cell_type": "code",
   "execution_count": 210,
   "id": "ae83fdbe-e26d-4f95-a396-958a47b1b069",
   "metadata": {},
   "outputs": [
    {
     "data": {
      "text/html": [
       "<div>\n",
       "<style scoped>\n",
       "    .dataframe tbody tr th:only-of-type {\n",
       "        vertical-align: middle;\n",
       "    }\n",
       "\n",
       "    .dataframe tbody tr th {\n",
       "        vertical-align: top;\n",
       "    }\n",
       "\n",
       "    .dataframe thead th {\n",
       "        text-align: right;\n",
       "    }\n",
       "</style>\n",
       "<table border=\"1\" class=\"dataframe\">\n",
       "  <thead>\n",
       "    <tr style=\"text-align: right;\">\n",
       "      <th></th>\n",
       "      <th>NU_INSCRICAO</th>\n",
       "      <th>NU_ANO</th>\n",
       "      <th>TP_FAIXA_ETARIA</th>\n",
       "      <th>TP_SEXO</th>\n",
       "      <th>TP_ESTADO_CIVIL</th>\n",
       "      <th>TP_COR_RACA</th>\n",
       "      <th>TP_NACIONALIDADE</th>\n",
       "      <th>TP_ST_CONCLUSAO</th>\n",
       "      <th>TP_ANO_CONCLUIU</th>\n",
       "      <th>TP_ESCOLA</th>\n",
       "      <th>...</th>\n",
       "      <th>Q016</th>\n",
       "      <th>Q017</th>\n",
       "      <th>Q018</th>\n",
       "      <th>Q019</th>\n",
       "      <th>Q020</th>\n",
       "      <th>Q021</th>\n",
       "      <th>Q022</th>\n",
       "      <th>Q023</th>\n",
       "      <th>Q024</th>\n",
       "      <th>Q025</th>\n",
       "    </tr>\n",
       "  </thead>\n",
       "  <tbody>\n",
       "    <tr>\n",
       "      <th>3933950</th>\n",
       "      <td>210061959676</td>\n",
       "      <td>2023</td>\n",
       "      <td>12</td>\n",
       "      <td>M</td>\n",
       "      <td>1</td>\n",
       "      <td>1</td>\n",
       "      <td>1</td>\n",
       "      <td>1</td>\n",
       "      <td>6</td>\n",
       "      <td>1</td>\n",
       "      <td>...</td>\n",
       "      <td>B</td>\n",
       "      <td>A</td>\n",
       "      <td>A</td>\n",
       "      <td>C</td>\n",
       "      <td>A</td>\n",
       "      <td>B</td>\n",
       "      <td>E</td>\n",
       "      <td>A</td>\n",
       "      <td>A</td>\n",
       "      <td>B</td>\n",
       "    </tr>\n",
       "    <tr>\n",
       "      <th>3933951</th>\n",
       "      <td>210061950911</td>\n",
       "      <td>2023</td>\n",
       "      <td>1</td>\n",
       "      <td>F</td>\n",
       "      <td>1</td>\n",
       "      <td>1</td>\n",
       "      <td>2</td>\n",
       "      <td>3</td>\n",
       "      <td>0</td>\n",
       "      <td>1</td>\n",
       "      <td>...</td>\n",
       "      <td>B</td>\n",
       "      <td>A</td>\n",
       "      <td>B</td>\n",
       "      <td>C</td>\n",
       "      <td>B</td>\n",
       "      <td>B</td>\n",
       "      <td>B</td>\n",
       "      <td>B</td>\n",
       "      <td>C</td>\n",
       "      <td>B</td>\n",
       "    </tr>\n",
       "    <tr>\n",
       "      <th>3933952</th>\n",
       "      <td>210061965966</td>\n",
       "      <td>2023</td>\n",
       "      <td>3</td>\n",
       "      <td>F</td>\n",
       "      <td>1</td>\n",
       "      <td>3</td>\n",
       "      <td>1</td>\n",
       "      <td>2</td>\n",
       "      <td>0</td>\n",
       "      <td>2</td>\n",
       "      <td>...</td>\n",
       "      <td>A</td>\n",
       "      <td>A</td>\n",
       "      <td>A</td>\n",
       "      <td>B</td>\n",
       "      <td>A</td>\n",
       "      <td>A</td>\n",
       "      <td>B</td>\n",
       "      <td>A</td>\n",
       "      <td>A</td>\n",
       "      <td>B</td>\n",
       "    </tr>\n",
       "    <tr>\n",
       "      <th>3933953</th>\n",
       "      <td>210061932304</td>\n",
       "      <td>2023</td>\n",
       "      <td>2</td>\n",
       "      <td>M</td>\n",
       "      <td>1</td>\n",
       "      <td>1</td>\n",
       "      <td>1</td>\n",
       "      <td>2</td>\n",
       "      <td>0</td>\n",
       "      <td>3</td>\n",
       "      <td>...</td>\n",
       "      <td>B</td>\n",
       "      <td>B</td>\n",
       "      <td>B</td>\n",
       "      <td>C</td>\n",
       "      <td>A</td>\n",
       "      <td>A</td>\n",
       "      <td>D</td>\n",
       "      <td>A</td>\n",
       "      <td>C</td>\n",
       "      <td>B</td>\n",
       "    </tr>\n",
       "    <tr>\n",
       "      <th>3933954</th>\n",
       "      <td>210058924455</td>\n",
       "      <td>2023</td>\n",
       "      <td>3</td>\n",
       "      <td>F</td>\n",
       "      <td>1</td>\n",
       "      <td>3</td>\n",
       "      <td>1</td>\n",
       "      <td>2</td>\n",
       "      <td>0</td>\n",
       "      <td>2</td>\n",
       "      <td>...</td>\n",
       "      <td>A</td>\n",
       "      <td>A</td>\n",
       "      <td>A</td>\n",
       "      <td>B</td>\n",
       "      <td>B</td>\n",
       "      <td>A</td>\n",
       "      <td>D</td>\n",
       "      <td>A</td>\n",
       "      <td>B</td>\n",
       "      <td>B</td>\n",
       "    </tr>\n",
       "  </tbody>\n",
       "</table>\n",
       "<p>5 rows × 76 columns</p>\n",
       "</div>"
      ],
      "text/plain": [
       "         NU_INSCRICAO  NU_ANO  TP_FAIXA_ETARIA TP_SEXO  TP_ESTADO_CIVIL  \\\n",
       "3933950  210061959676    2023               12       M                1   \n",
       "3933951  210061950911    2023                1       F                1   \n",
       "3933952  210061965966    2023                3       F                1   \n",
       "3933953  210061932304    2023                2       M                1   \n",
       "3933954  210058924455    2023                3       F                1   \n",
       "\n",
       "         TP_COR_RACA  TP_NACIONALIDADE  TP_ST_CONCLUSAO  TP_ANO_CONCLUIU  \\\n",
       "3933950            1                 1                1                6   \n",
       "3933951            1                 2                3                0   \n",
       "3933952            3                 1                2                0   \n",
       "3933953            1                 1                2                0   \n",
       "3933954            3                 1                2                0   \n",
       "\n",
       "         TP_ESCOLA  ...  Q016  Q017  Q018 Q019  Q020 Q021  Q022  Q023  Q024  \\\n",
       "3933950          1  ...     B     A     A    C     A    B     E     A     A   \n",
       "3933951          1  ...     B     A     B    C     B    B     B     B     C   \n",
       "3933952          2  ...     A     A     A    B     A    A     B     A     A   \n",
       "3933953          3  ...     B     B     B    C     A    A     D     A     C   \n",
       "3933954          2  ...     A     A     A    B     B    A     D     A     B   \n",
       "\n",
       "         Q025  \n",
       "3933950     B  \n",
       "3933951     B  \n",
       "3933952     B  \n",
       "3933953     B  \n",
       "3933954     B  \n",
       "\n",
       "[5 rows x 76 columns]"
      ]
     },
     "execution_count": 210,
     "metadata": {},
     "output_type": "execute_result"
    }
   ],
   "source": [
    "microdadosEnem.head()\n",
    "microdadosEnem.tail()"
   ]
  },
  {
   "cell_type": "code",
   "execution_count": 62,
   "id": "1d3f3b31-4d80-4afa-82cb-18cca45a80c1",
   "metadata": {},
   "outputs": [
    {
     "data": {
      "text/plain": [
       "array(['NU_INSCRICAO', 'NU_ANO', 'TP_FAIXA_ETARIA', 'TP_SEXO',\n",
       "       'TP_ESTADO_CIVIL', 'TP_COR_RACA', 'TP_NACIONALIDADE',\n",
       "       'TP_ST_CONCLUSAO', 'TP_ANO_CONCLUIU', 'TP_ESCOLA', 'TP_ENSINO',\n",
       "       'IN_TREINEIRO', 'CO_MUNICIPIO_ESC', 'NO_MUNICIPIO_ESC',\n",
       "       'CO_UF_ESC', 'SG_UF_ESC', 'TP_DEPENDENCIA_ADM_ESC',\n",
       "       'TP_LOCALIZACAO_ESC', 'TP_SIT_FUNC_ESC', 'CO_MUNICIPIO_PROVA',\n",
       "       'NO_MUNICIPIO_PROVA', 'CO_UF_PROVA', 'SG_UF_PROVA',\n",
       "       'TP_PRESENCA_CN', 'TP_PRESENCA_CH', 'TP_PRESENCA_LC',\n",
       "       'TP_PRESENCA_MT', 'CO_PROVA_CN', 'CO_PROVA_CH', 'CO_PROVA_LC',\n",
       "       'CO_PROVA_MT', 'NU_NOTA_CN', 'NU_NOTA_CH', 'NU_NOTA_LC',\n",
       "       'NU_NOTA_MT', 'TX_RESPOSTAS_CN', 'TX_RESPOSTAS_CH',\n",
       "       'TX_RESPOSTAS_LC', 'TX_RESPOSTAS_MT', 'TP_LINGUA',\n",
       "       'TX_GABARITO_CN', 'TX_GABARITO_CH', 'TX_GABARITO_LC',\n",
       "       'TX_GABARITO_MT', 'TP_STATUS_REDACAO', 'NU_NOTA_COMP1',\n",
       "       'NU_NOTA_COMP2', 'NU_NOTA_COMP3', 'NU_NOTA_COMP4', 'NU_NOTA_COMP5',\n",
       "       'NU_NOTA_REDACAO', 'Q001', 'Q002', 'Q003', 'Q004', 'Q005', 'Q006',\n",
       "       'Q007', 'Q008', 'Q009', 'Q010', 'Q011', 'Q012', 'Q013', 'Q014',\n",
       "       'Q015', 'Q016', 'Q017', 'Q018', 'Q019', 'Q020', 'Q021', 'Q022',\n",
       "       'Q023', 'Q024', 'Q025'], dtype=object)"
      ]
     },
     "execution_count": 62,
     "metadata": {},
     "output_type": "execute_result"
    }
   ],
   "source": [
    "microdadosEnem.columns.values"
   ]
  },
  {
   "cell_type": "code",
   "execution_count": 63,
   "id": "14a242bd-f005-4345-b55f-e4ff1c77fd17",
   "metadata": {},
   "outputs": [],
   "source": [
    "colunasSelecionadasEnem = ['TP_FAIXA_ETARIA', 'TP_SEXO',\n",
    "       'TP_ESTADO_CIVIL', 'TP_COR_RACA', 'TP_NACIONALIDADE',\n",
    "       'TP_ST_CONCLUSAO', 'TP_ANO_CONCLUIU', 'TP_ESCOLA', 'TP_ENSINO',\n",
    "       'IN_TREINEIRO', 'CO_MUNICIPIO_ESC', 'NO_MUNICIPIO_ESC', 'SG_UF_ESC', 'TP_DEPENDENCIA_ADM_ESC',\n",
    "       'TP_LOCALIZACAO_ESC','TP_PRESENCA_CN', 'TP_PRESENCA_CH', 'TP_PRESENCA_LC',\n",
    "       'TP_PRESENCA_MT','NU_NOTA_CN', 'NU_NOTA_CH', 'NU_NOTA_LC',\n",
    "       'NU_NOTA_MT', 'TX_RESPOSTAS_CN', 'TX_RESPOSTAS_CH',\n",
    "       'TX_RESPOSTAS_LC', 'TX_RESPOSTAS_MT', 'TP_LINGUA',\n",
    "       'TX_GABARITO_CN', 'TX_GABARITO_CH', 'TX_GABARITO_LC',\n",
    "       'TX_GABARITO_MT', 'TP_STATUS_REDACAO','NU_NOTA_REDACAO', 'Q001', 'Q002', 'Q003', 'Q004', 'Q005', 'Q006',\n",
    "       'Q007', 'Q008', 'Q009', 'Q010', 'Q011', 'Q012', 'Q013', 'Q014',\n",
    "       'Q015', 'Q016', 'Q017', 'Q018', 'Q019', 'Q020', 'Q021', 'Q022',\n",
    "       'Q023', 'Q024', 'Q025']"
   ]
  },
  {
   "cell_type": "code",
   "execution_count": 64,
   "id": "fe826206-c8b0-4795-8d15-df2d05c05162",
   "metadata": {},
   "outputs": [],
   "source": [
    "microdadosEnemSelecionado = microdadosEnem.filter(items=colunasSelecionadasEnem)"
   ]
  },
  {
   "cell_type": "code",
   "execution_count": 212,
   "id": "41908b9e-200a-4a4c-8b0c-f766df16dd24",
   "metadata": {},
   "outputs": [
    {
     "data": {
      "text/html": [
       "<div>\n",
       "<style scoped>\n",
       "    .dataframe tbody tr th:only-of-type {\n",
       "        vertical-align: middle;\n",
       "    }\n",
       "\n",
       "    .dataframe tbody tr th {\n",
       "        vertical-align: top;\n",
       "    }\n",
       "\n",
       "    .dataframe thead th {\n",
       "        text-align: right;\n",
       "    }\n",
       "</style>\n",
       "<table border=\"1\" class=\"dataframe\">\n",
       "  <thead>\n",
       "    <tr style=\"text-align: right;\">\n",
       "      <th></th>\n",
       "      <th>TP_FAIXA_ETARIA</th>\n",
       "      <th>TP_SEXO</th>\n",
       "      <th>TP_ESTADO_CIVIL</th>\n",
       "      <th>TP_COR_RACA</th>\n",
       "      <th>TP_NACIONALIDADE</th>\n",
       "      <th>TP_ST_CONCLUSAO</th>\n",
       "      <th>TP_ANO_CONCLUIU</th>\n",
       "      <th>TP_ESCOLA</th>\n",
       "      <th>TP_ENSINO</th>\n",
       "      <th>IN_TREINEIRO</th>\n",
       "      <th>...</th>\n",
       "      <th>Q016</th>\n",
       "      <th>Q017</th>\n",
       "      <th>Q018</th>\n",
       "      <th>Q019</th>\n",
       "      <th>Q020</th>\n",
       "      <th>Q021</th>\n",
       "      <th>Q022</th>\n",
       "      <th>Q023</th>\n",
       "      <th>Q024</th>\n",
       "      <th>Q025</th>\n",
       "    </tr>\n",
       "  </thead>\n",
       "  <tbody>\n",
       "    <tr>\n",
       "      <th>3933950</th>\n",
       "      <td>12</td>\n",
       "      <td>M</td>\n",
       "      <td>1</td>\n",
       "      <td>1</td>\n",
       "      <td>1</td>\n",
       "      <td>1</td>\n",
       "      <td>6</td>\n",
       "      <td>1</td>\n",
       "      <td>NaN</td>\n",
       "      <td>0</td>\n",
       "      <td>...</td>\n",
       "      <td>B</td>\n",
       "      <td>A</td>\n",
       "      <td>A</td>\n",
       "      <td>C</td>\n",
       "      <td>A</td>\n",
       "      <td>B</td>\n",
       "      <td>E</td>\n",
       "      <td>A</td>\n",
       "      <td>A</td>\n",
       "      <td>B</td>\n",
       "    </tr>\n",
       "    <tr>\n",
       "      <th>3933951</th>\n",
       "      <td>1</td>\n",
       "      <td>F</td>\n",
       "      <td>1</td>\n",
       "      <td>1</td>\n",
       "      <td>2</td>\n",
       "      <td>3</td>\n",
       "      <td>0</td>\n",
       "      <td>1</td>\n",
       "      <td>NaN</td>\n",
       "      <td>1</td>\n",
       "      <td>...</td>\n",
       "      <td>B</td>\n",
       "      <td>A</td>\n",
       "      <td>B</td>\n",
       "      <td>C</td>\n",
       "      <td>B</td>\n",
       "      <td>B</td>\n",
       "      <td>B</td>\n",
       "      <td>B</td>\n",
       "      <td>C</td>\n",
       "      <td>B</td>\n",
       "    </tr>\n",
       "    <tr>\n",
       "      <th>3933952</th>\n",
       "      <td>3</td>\n",
       "      <td>F</td>\n",
       "      <td>1</td>\n",
       "      <td>3</td>\n",
       "      <td>1</td>\n",
       "      <td>2</td>\n",
       "      <td>0</td>\n",
       "      <td>2</td>\n",
       "      <td>1.0</td>\n",
       "      <td>0</td>\n",
       "      <td>...</td>\n",
       "      <td>A</td>\n",
       "      <td>A</td>\n",
       "      <td>A</td>\n",
       "      <td>B</td>\n",
       "      <td>A</td>\n",
       "      <td>A</td>\n",
       "      <td>B</td>\n",
       "      <td>A</td>\n",
       "      <td>A</td>\n",
       "      <td>B</td>\n",
       "    </tr>\n",
       "    <tr>\n",
       "      <th>3933953</th>\n",
       "      <td>2</td>\n",
       "      <td>M</td>\n",
       "      <td>1</td>\n",
       "      <td>1</td>\n",
       "      <td>1</td>\n",
       "      <td>2</td>\n",
       "      <td>0</td>\n",
       "      <td>3</td>\n",
       "      <td>1.0</td>\n",
       "      <td>0</td>\n",
       "      <td>...</td>\n",
       "      <td>B</td>\n",
       "      <td>B</td>\n",
       "      <td>B</td>\n",
       "      <td>C</td>\n",
       "      <td>A</td>\n",
       "      <td>A</td>\n",
       "      <td>D</td>\n",
       "      <td>A</td>\n",
       "      <td>C</td>\n",
       "      <td>B</td>\n",
       "    </tr>\n",
       "    <tr>\n",
       "      <th>3933954</th>\n",
       "      <td>3</td>\n",
       "      <td>F</td>\n",
       "      <td>1</td>\n",
       "      <td>3</td>\n",
       "      <td>1</td>\n",
       "      <td>2</td>\n",
       "      <td>0</td>\n",
       "      <td>2</td>\n",
       "      <td>1.0</td>\n",
       "      <td>0</td>\n",
       "      <td>...</td>\n",
       "      <td>A</td>\n",
       "      <td>A</td>\n",
       "      <td>A</td>\n",
       "      <td>B</td>\n",
       "      <td>B</td>\n",
       "      <td>A</td>\n",
       "      <td>D</td>\n",
       "      <td>A</td>\n",
       "      <td>B</td>\n",
       "      <td>B</td>\n",
       "    </tr>\n",
       "  </tbody>\n",
       "</table>\n",
       "<p>5 rows × 59 columns</p>\n",
       "</div>"
      ],
      "text/plain": [
       "         TP_FAIXA_ETARIA TP_SEXO  TP_ESTADO_CIVIL  TP_COR_RACA  \\\n",
       "3933950               12       M                1            1   \n",
       "3933951                1       F                1            1   \n",
       "3933952                3       F                1            3   \n",
       "3933953                2       M                1            1   \n",
       "3933954                3       F                1            3   \n",
       "\n",
       "         TP_NACIONALIDADE  TP_ST_CONCLUSAO  TP_ANO_CONCLUIU  TP_ESCOLA  \\\n",
       "3933950                 1                1                6          1   \n",
       "3933951                 2                3                0          1   \n",
       "3933952                 1                2                0          2   \n",
       "3933953                 1                2                0          3   \n",
       "3933954                 1                2                0          2   \n",
       "\n",
       "         TP_ENSINO  IN_TREINEIRO  ...  Q016 Q017 Q018  Q019  Q020  Q021  Q022  \\\n",
       "3933950        NaN             0  ...     B    A    A     C     A     B     E   \n",
       "3933951        NaN             1  ...     B    A    B     C     B     B     B   \n",
       "3933952        1.0             0  ...     A    A    A     B     A     A     B   \n",
       "3933953        1.0             0  ...     B    B    B     C     A     A     D   \n",
       "3933954        1.0             0  ...     A    A    A     B     B     A     D   \n",
       "\n",
       "         Q023  Q024  Q025  \n",
       "3933950     A     A     B  \n",
       "3933951     B     C     B  \n",
       "3933952     A     A     B  \n",
       "3933953     A     C     B  \n",
       "3933954     A     B     B  \n",
       "\n",
       "[5 rows x 59 columns]"
      ]
     },
     "execution_count": 212,
     "metadata": {},
     "output_type": "execute_result"
    }
   ],
   "source": [
    "microdadosEnemSelecionado.head()\n",
    "microdadosEnemSelecionado.tail()"
   ]
  },
  {
   "cell_type": "code",
   "execution_count": 66,
   "id": "2f308d00-c1d1-4775-b12b-3dcf4eb360c6",
   "metadata": {},
   "outputs": [
    {
     "data": {
      "text/plain": [
       "array(['TP_FAIXA_ETARIA', 'TP_SEXO', 'TP_ESTADO_CIVIL', 'TP_COR_RACA',\n",
       "       'TP_NACIONALIDADE', 'TP_ST_CONCLUSAO', 'TP_ANO_CONCLUIU',\n",
       "       'TP_ESCOLA', 'TP_ENSINO', 'IN_TREINEIRO', 'CO_MUNICIPIO_ESC',\n",
       "       'NO_MUNICIPIO_ESC', 'SG_UF_ESC', 'TP_DEPENDENCIA_ADM_ESC',\n",
       "       'TP_LOCALIZACAO_ESC', 'TP_PRESENCA_CN', 'TP_PRESENCA_CH',\n",
       "       'TP_PRESENCA_LC', 'TP_PRESENCA_MT', 'NU_NOTA_CN', 'NU_NOTA_CH',\n",
       "       'NU_NOTA_LC', 'NU_NOTA_MT', 'TX_RESPOSTAS_CN', 'TX_RESPOSTAS_CH',\n",
       "       'TX_RESPOSTAS_LC', 'TX_RESPOSTAS_MT', 'TP_LINGUA',\n",
       "       'TX_GABARITO_CN', 'TX_GABARITO_CH', 'TX_GABARITO_LC',\n",
       "       'TX_GABARITO_MT', 'TP_STATUS_REDACAO', 'NU_NOTA_REDACAO', 'Q001',\n",
       "       'Q002', 'Q003', 'Q004', 'Q005', 'Q006', 'Q007', 'Q008', 'Q009',\n",
       "       'Q010', 'Q011', 'Q012', 'Q013', 'Q014', 'Q015', 'Q016', 'Q017',\n",
       "       'Q018', 'Q019', 'Q020', 'Q021', 'Q022', 'Q023', 'Q024', 'Q025'],\n",
       "      dtype=object)"
      ]
     },
     "execution_count": 66,
     "metadata": {},
     "output_type": "execute_result"
    }
   ],
   "source": [
    "microdadosEnemSelecionado.columns.values"
   ]
  },
  {
   "cell_type": "markdown",
   "id": "786cbe6e-ab06-4314-b512-98bf026830d5",
   "metadata": {},
   "source": [
    "## Nº de registros por estado"
   ]
  },
  {
   "cell_type": "code",
   "execution_count": 178,
   "id": "8844f58e-7865-4bfa-a3cb-c14c65daf1dc",
   "metadata": {},
   "outputs": [],
   "source": [
    "coluna_no_municipio_residencia = microdadosEnemSelecionado['SG_UF_ESC']"
   ]
  },
  {
   "cell_type": "code",
   "execution_count": 77,
   "id": "ca55b997-47db-4c27-a9fd-31d83fb40da6",
   "metadata": {},
   "outputs": [
    {
     "data": {
      "text/plain": [
       "SG_UF_ESC\n",
       "SP    187067\n",
       "CE     98595\n",
       "MG     66972\n",
       "RJ     63842\n",
       "PR     54226\n",
       "GO     45796\n",
       "PE     44881\n",
       "BA     43453\n",
       "RS     39700\n",
       "PA     35212\n",
       "MA     31877\n",
       "SC     31480\n",
       "AM     26557\n",
       "PB     24870\n",
       "AL     20934\n",
       "ES     20626\n",
       "DF     20113\n",
       "PI     18393\n",
       "MT     16792\n",
       "RN     16776\n",
       "MS     11894\n",
       "SE     10277\n",
       "RO     10209\n",
       "TO      7336\n",
       "AP      4240\n",
       "AC      4111\n",
       "RR      2277\n",
       "Name: count, dtype: int64"
      ]
     },
     "execution_count": 77,
     "metadata": {},
     "output_type": "execute_result"
    }
   ],
   "source": [
    "coluna_no_municipio_residencia.value_counts()"
   ]
  },
  {
   "cell_type": "markdown",
   "id": "46c8af2e-2c97-4a23-934b-9ebb609dc307",
   "metadata": {},
   "source": [
    "<b>OBS:</b> O total de registros de todos os estados <b>(958506)</b> não condiz com o total de candidatos <b>(3933954)</b>. Isso se deve ao alto número de registros nulos nesse campo do formulário."
   ]
  },
  {
   "cell_type": "code",
   "execution_count": 208,
   "id": "85b9cf98-e8ef-411c-9464-2439205ed200",
   "metadata": {},
   "outputs": [],
   "source": [
    "freq_estado = coluna_no_municipio_residencia.value_counts()"
   ]
  },
  {
   "cell_type": "code",
   "execution_count": 209,
   "id": "4aadb27d-5c83-445f-9860-d53a7b2d4457",
   "metadata": {},
   "outputs": [
    {
     "data": {
      "image/png": "[encoded data removed]",
      "text/plain": [
       "<Figure size 1200x600 with 1 Axes>"
      ]
     },
     "metadata": {},
     "output_type": "display_data"
    }
   ],
   "source": [
    "plt.figure(figsize=(12,6))\n",
    "grafico = plt.bar(freq_estado.index, freq_estado, color='skyblue')\n",
    "plt.xlabel('Estado')\n",
    "plt.ylabel('Quantidade de Candidatos')\n",
    "plt.title('Quantidade de Candidatos por Estado')\n",
    "plt.show()"
   ]
  },
  {
   "cell_type": "markdown",
   "id": "a606acd5-8879-4092-ad88-d87eaec5dc78",
   "metadata": {},
   "source": [
    "## Nº de registros por faixa etária"
   ]
  },
  {
   "cell_type": "code",
   "execution_count": 217,
   "id": "afddd769-9574-414a-9e49-ea997927e96b",
   "metadata": {},
   "outputs": [],
   "source": [
    "coluna_faixa_etaria = microdadosEnemSelecionado['TP_FAIXA_ETARIA']"
   ]
  },
  {
   "cell_type": "code",
   "execution_count": 218,
   "id": "8aebae25-7fc7-4395-a555-2243b22d71aa",
   "metadata": {},
   "outputs": [
    {
     "data": {
      "text/plain": [
       "TP_FAIXA_ETARIA\n",
       "1     347434\n",
       "2     753800\n",
       "3     905047\n",
       "4     431592\n",
       "5     267383\n",
       "6     183401\n",
       "7     137884\n",
       "8     111813\n",
       "9      91359\n",
       "10     73127\n",
       "11    246292\n",
       "12    133381\n",
       "13     96927\n",
       "14     67135\n",
       "15     40791\n",
       "16     24619\n",
       "17     13439\n",
       "18      5503\n",
       "19      2161\n",
       "20       867\n",
       "Name: count, dtype: int64"
      ]
     },
     "execution_count": 218,
     "metadata": {},
     "output_type": "execute_result"
    }
   ],
   "source": [
    "coluna_faixa_etaria.value_counts().sort_index()"
   ]
  },
  {
   "cell_type": "code",
   "execution_count": 318,
   "id": "510f56cd-51e4-4208-a575-b4ed1ee729c9",
   "metadata": {},
   "outputs": [
    {
     "data": {
      "image/png": "[encoded data removed]",
      "text/plain": [
       "<Figure size 1000x500 with 1 Axes>"
      ]
     },
     "metadata": {},
     "output_type": "display_data"
    }
   ],
   "source": [
    "frequencia_faixa_etaria = coluna_faixa_etaria.value_counts().sort_index()\n",
    "faixas_etarias = {\n",
    "    1: 'Menor de 17 anos', 2: '17 anos', 3: '18 anos', 4: '19 anos', 5: '20 anos',\n",
    "    6: '21 anos', 7: '22 anos', 8: '23 anos', 9: '24 anos', 10: '25 anos',\n",
    "    11: '26-30 anos', 12: '31-35 anos', 13: '36-40 anos', 14: '41-45 anos',\n",
    "    15: '46-50 anos', 16: '51-55 anos', 17: '56-60 anos', 18: '61-65 anos',\n",
    "    19: '66-70 anos', 20: 'Maior de 70 anos'\n",
    "}\n",
    "\n",
    "# Converte os índices numéricos para rótulos descritivos\n",
    "frequencia_faixa_etaria.index = frequencia_faixa_etaria.index.map(faixas_etarias)\n",
    "\n",
    "# Gráfico de barras\n",
    "plt.figure(figsize=(10, 5))\n",
    "plt.bar(frequencia_faixa_etaria.index, frequencia_faixa_etaria.values, color='tab:blue')\n",
    "\n",
    "# Ajuste de títulos e rótulos\n",
    "plt.xlabel('Faixa Etária')\n",
    "plt.ylabel('Frequência')\n",
    "plt.title('Frequência de Participantes por Faixa Etária')\n",
    "plt.xticks(rotation=45, ha='right')  # Rotaciona os rótulos para facilitar a leitura\n",
    "plt.tight_layout()  # Ajusta para evitar sobreposição\n",
    "plt.show()"
   ]
  },
  {
   "cell_type": "markdown",
   "id": "bfa2f700-8129-4622-bcda-6c3ce25aedbe",
   "metadata": {},
   "source": [
    "## Nº de registros por sexo"
   ]
  },
  {
   "cell_type": "code",
   "execution_count": 310,
   "id": "d167b99f-014f-46e7-b0d1-b7dff8ec2465",
   "metadata": {},
   "outputs": [
    {
     "name": "stdout",
     "output_type": "stream",
     "text": [
      "TP_SEXO\n",
      "F    2411185\n",
      "M    1522770\n",
      "Name: count, dtype: int64\n"
     ]
    }
   ],
   "source": [
    "# Seleciona a coluna que indica o sexo dos participantes\n",
    "coluna_sexo = microdadosEnemSelecionado['TP_SEXO']\n",
    "\n",
    "# Conta a frequência de cada valor (número de participantes do sexo masculino e feminino)\n",
    "freq_sexo = coluna_sexo.value_counts()\n",
    "print(freq_sexo) "
   ]
  },
  {
   "cell_type": "code",
   "execution_count": 311,
   "id": "55cfc0ab-c69c-4775-8f4f-cfbb0b2d35e3",
   "metadata": {},
   "outputs": [
    {
     "data": {
      "text/plain": [
       "[np.float64(61.291626365832855), np.float64(38.708373634167145)]"
      ]
     },
     "execution_count": 311,
     "metadata": {},
     "output_type": "execute_result"
    }
   ],
   "source": [
    "# Converte as frequências absolutas para percentuais (dividindo cada valor pelo total e multiplicando por 100)\n",
    "porcent_sexo = [100 * x / freq_sexo.sum() for x in freq_sexo]\n",
    "porcent_sexo "
   ]
  },
  {
   "cell_type": "code",
   "execution_count": 319,
   "id": "dcaee244-7a8f-4e65-9e88-2b178bf7ff01",
   "metadata": {},
   "outputs": [
    {
     "data": {
      "image/png": "[encoded data removed]",
      "text/plain": [
       "<Figure size 500x600 with 1 Axes>"
      ]
     },
     "metadata": {},
     "output_type": "display_data"
    }
   ],
   "source": [
    "# Define as cores para cada barra\n",
    "bar_colors = ['tab:orange', 'tab:green']\n",
    "\n",
    "rotulo_sexo = ['Feminino', 'Masculino']\n",
    "\n",
    "plt.figure(figsize=(5, 6))\n",
    "\n",
    "plt.bar(rotulo_sexo, porcent_sexo, color=bar_colors)\n",
    "\n",
    "# Define o formato do eixo y como porcentagem para que os valores sejam exibidos com o símbolo '%' \n",
    "plt.gca().yaxis.set_major_formatter(PercentFormatter())\n",
    "\n",
    "# Ajusta o limite superior do eixo Y para 100%, garantindo que toda a escala percentual seja exibida\n",
    "plt.ylim(0, 100)\n",
    "\n",
    "plt.title('Distribuição Percentual por Sexo')\n",
    "plt.xlabel('Sexo')\n",
    "plt.ylabel('Porcentagem')\n",
    "\n",
    "# Exibe o valor exato da porcentagem acima de cada barra\n",
    "for i, v in enumerate(porcent_sexo):\n",
    "    plt.text(i, v + 1, f'{v:.1f}%', ha='center', fontweight='bold')  # v+1 Coloca o valor da porcentagem 1 unidade acima da barra\n",
    "plt.show()"
   ]
  },
  {
   "cell_type": "code",
   "execution_count": null,
   "id": "8c4b9f6b-319f-433d-90a1-de2bd923ae8f",
   "metadata": {},
   "outputs": [],
   "source": []
  }
 ],
 "metadata": {
  "kernelspec": {
   "display_name": "Python 3 (ipykernel)",
   "language": "python",
   "name": "python3"
  },
  "language_info": {
   "codemirror_mode": {
    "name": "ipython",
    "version": 3
   },
   "file_extension": ".py",
   "mimetype": "text/x-python",
   "name": "python",
   "nbconvert_exporter": "python",
   "pygments_lexer": "ipython3",
   "version": "3.12.7"
  }
 },
 "nbformat": 4,
 "nbformat_minor": 5
}
